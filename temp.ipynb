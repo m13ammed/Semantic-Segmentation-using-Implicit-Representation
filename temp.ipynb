{
 "cells": [
  {
   "cell_type": "code",
   "execution_count": 1,
   "metadata": {},
   "outputs": [],
   "source": [
    "import os\n",
    "\n",
    "dir = \"/home/rozenberszki/Downloads/ScanNet-novel\"\n",
    "\n",
    "\n",
    "total_int = 0\n",
    "for scene in os.listdir(dir):\n",
    "    pic = os.path.join(dir, scene)\n",
    "    for i in os.listdir(pic):\n",
    "        total_int+=1\n"
   ]
  },
  {
   "cell_type": "code",
   "execution_count": 2,
   "metadata": {},
   "outputs": [
    {
     "name": "stdout",
     "output_type": "stream",
     "text": [
      "90399\n"
     ]
    }
   ],
   "source": [
    "print(total_int)"
   ]
  },
  {
   "cell_type": "code",
   "execution_count": null,
   "metadata": {},
   "outputs": [],
   "source": []
  }
 ],
 "metadata": {
  "kernelspec": {
   "display_name": "novelview",
   "language": "python",
   "name": "python3"
  },
  "language_info": {
   "codemirror_mode": {
    "name": "ipython",
    "version": 3
   },
   "file_extension": ".py",
   "mimetype": "text/x-python",
   "name": "python",
   "nbconvert_exporter": "python",
   "pygments_lexer": "ipython3",
   "version": "3.10.8"
  },
  "orig_nbformat": 4,
  "vscode": {
   "interpreter": {
    "hash": "33dd328e18a01dfbfecdcd665e19df9b2a1aa21277defc238c2183b416973085"
   }
  }
 },
 "nbformat": 4,
 "nbformat_minor": 2
}

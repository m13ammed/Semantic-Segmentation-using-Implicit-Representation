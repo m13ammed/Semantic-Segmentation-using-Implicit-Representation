{
 "cells": [
  {
   "cell_type": "code",
   "execution_count": null,
   "metadata": {},
   "outputs": [],
   "source": [
    "dir =\"/home/rozenberszki/Downloads/merged-gt/plenoxel_scannet_scene0000_00/0.npy\"\n",
    "\n",
    "import os\n",
    "import numpy as np\n",
    "\n",
    "print(np.load(dir, allow_pickle=\"TRUE\"))"
   ]
  }
 ],
 "metadata": {
  "kernelspec": {
   "display_name": "novelview",
   "language": "python",
   "name": "python3"
  },
  "language_info": {
   "name": "python",
   "version": "3.10.8 (main, Nov 24 2022, 14:13:03) [GCC 11.2.0]"
  },
  "orig_nbformat": 4,
  "vscode": {
   "interpreter": {
    "hash": "33dd328e18a01dfbfecdcd665e19df9b2a1aa21277defc238c2183b416973085"
   }
  }
 },
 "nbformat": 4,
 "nbformat_minor": 2
}
